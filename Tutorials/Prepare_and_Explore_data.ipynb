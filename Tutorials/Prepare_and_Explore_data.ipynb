{
 "cells": [
  {
   "cell_type": "markdown",
   "metadata": {},
   "source": [
    "# BASIC STEPS FOR CLEANING AND EXPLORATORY DATA ANALYSIS\n",
    "\n",
    "This notebook contain the main basic steps that should be performed during exploratory data analysis of experimental data for protein engineering. It is important to note that this is not an exhaustive procedure. It only include the minimal number of steps that should be performed and further steps might be required depending on the specific characteristics of the raw data and objective."
   ]
  },
  {
   "cell_type": "markdown",
   "metadata": {},
   "source": [
    "# 1. Cleaning the labeled data\n",
    "\n",
    "The firsts part of this tutorial includes the exploration and understanding of the experimental label of the data"
   ]
  },
  {
   "cell_type": "code",
   "execution_count": 2,
   "metadata": {},
   "outputs": [],
   "source": [
    "import pandas as pd\n",
    "import numpy as np  \n",
    "import plotly.express as px\n",
    "import sys\n",
    "import seaborn as sns\n",
    "\n",
    "sys.path.insert(0, '../src/')\n",
    "from data_processing import MeanAndStd, DataOutliers, LogarithmicTransform"
   ]
  },
  {
   "cell_type": "markdown",
   "metadata": {},
   "source": [
    "A dummy data set was created for the porpuse of demostration."
   ]
  },
  {
   "cell_type": "code",
   "execution_count": 6,
   "metadata": {},
   "outputs": [
    {
     "data": {
      "text/html": [
       "<div>\n",
       "<style scoped>\n",
       "    .dataframe tbody tr th:only-of-type {\n",
       "        vertical-align: middle;\n",
       "    }\n",
       "\n",
       "    .dataframe tbody tr th {\n",
       "        vertical-align: top;\n",
       "    }\n",
       "\n",
       "    .dataframe thead th {\n",
       "        text-align: right;\n",
       "    }\n",
       "</style>\n",
       "<table border=\"1\" class=\"dataframe\">\n",
       "  <thead>\n",
       "    <tr style=\"text-align: right;\">\n",
       "      <th></th>\n",
       "      <th>ID</th>\n",
       "      <th>property_value_R1</th>\n",
       "      <th>property_value_R2</th>\n",
       "      <th>property_value_R3</th>\n",
       "    </tr>\n",
       "  </thead>\n",
       "  <tbody>\n",
       "    <tr>\n",
       "      <th>0</th>\n",
       "      <td>Variant_1</td>\n",
       "      <td>10.0</td>\n",
       "      <td>11.0</td>\n",
       "      <td>9.0</td>\n",
       "    </tr>\n",
       "    <tr>\n",
       "      <th>1</th>\n",
       "      <td>Variant_2</td>\n",
       "      <td>12.7</td>\n",
       "      <td>13.0</td>\n",
       "      <td>12.1</td>\n",
       "    </tr>\n",
       "    <tr>\n",
       "      <th>2</th>\n",
       "      <td>Variant_3</td>\n",
       "      <td>14.0</td>\n",
       "      <td>11.0</td>\n",
       "      <td>11.2</td>\n",
       "    </tr>\n",
       "    <tr>\n",
       "      <th>3</th>\n",
       "      <td>Variant_4</td>\n",
       "      <td>13.4</td>\n",
       "      <td>13.3</td>\n",
       "      <td>13.1</td>\n",
       "    </tr>\n",
       "    <tr>\n",
       "      <th>4</th>\n",
       "      <td>Variant_5</td>\n",
       "      <td>13.0</td>\n",
       "      <td>12.0</td>\n",
       "      <td>11.0</td>\n",
       "    </tr>\n",
       "  </tbody>\n",
       "</table>\n",
       "</div>"
      ],
      "text/plain": [
       "          ID  property_value_R1  property_value_R2  property_value_R3\n",
       "0  Variant_1               10.0               11.0                9.0\n",
       "1  Variant_2               12.7               13.0               12.1\n",
       "2  Variant_3               14.0               11.0               11.2\n",
       "3  Variant_4               13.4               13.3               13.1\n",
       "4  Variant_5               13.0               12.0               11.0"
      ]
     },
     "execution_count": 6,
     "metadata": {},
     "output_type": "execute_result"
    }
   ],
   "source": [
    "df = pd.DataFrame({\n",
    "    'ID': [f'Variant_{i}' for i in range(1, 21)],\n",
    "    'property_value_R1': [10, 12.7, 14, 13.4, 13, 500, 11.1, 14, 13, 13, 8, 11.1, 12.5, 16, 25, 10.1, 12, 18, 3, 0.01],\n",
    "    'property_value_R2': [11, 13, 11, 13.3, 12, 600, 11.2, 15, 12, 12, 9, 11.9, 12.2, 13, 20, 10.8, 14, 18.4, 4, 0.02],\n",
    "    'property_value_R3': [9, 12.1, 11.2, 13.1, 11, 400, 11.3, 14, 13, 12, 10, 12, 12.4, 17, 21, 10.9, 16, 19, 5, 0.03]\n",
    "})\n",
    "\n",
    "df.head()"
   ]
  },
  {
   "cell_type": "markdown",
   "metadata": {},
   "source": [
    "When the experimental data contains multiple biological replicates calculate the mean and the standard deviation for each entry before proceding with any additional step."
   ]
  },
  {
   "cell_type": "code",
   "execution_count": 7,
   "metadata": {},
   "outputs": [
    {
     "data": {
      "text/html": [
       "<div>\n",
       "<style scoped>\n",
       "    .dataframe tbody tr th:only-of-type {\n",
       "        vertical-align: middle;\n",
       "    }\n",
       "\n",
       "    .dataframe tbody tr th {\n",
       "        vertical-align: top;\n",
       "    }\n",
       "\n",
       "    .dataframe thead th {\n",
       "        text-align: right;\n",
       "    }\n",
       "</style>\n",
       "<table border=\"1\" class=\"dataframe\">\n",
       "  <thead>\n",
       "    <tr style=\"text-align: right;\">\n",
       "      <th></th>\n",
       "      <th>ID</th>\n",
       "      <th>property_value_R1</th>\n",
       "      <th>property_value_R2</th>\n",
       "      <th>property_value_R3</th>\n",
       "      <th>Mean</th>\n",
       "      <th>Std</th>\n",
       "    </tr>\n",
       "  </thead>\n",
       "  <tbody>\n",
       "    <tr>\n",
       "      <th>0</th>\n",
       "      <td>Variant_1</td>\n",
       "      <td>10.0</td>\n",
       "      <td>11.0</td>\n",
       "      <td>9.0</td>\n",
       "      <td>10.000000</td>\n",
       "      <td>1.000000</td>\n",
       "    </tr>\n",
       "    <tr>\n",
       "      <th>1</th>\n",
       "      <td>Variant_2</td>\n",
       "      <td>12.7</td>\n",
       "      <td>13.0</td>\n",
       "      <td>12.1</td>\n",
       "      <td>12.600000</td>\n",
       "      <td>0.458258</td>\n",
       "    </tr>\n",
       "    <tr>\n",
       "      <th>2</th>\n",
       "      <td>Variant_3</td>\n",
       "      <td>14.0</td>\n",
       "      <td>11.0</td>\n",
       "      <td>11.2</td>\n",
       "      <td>12.066667</td>\n",
       "      <td>1.677299</td>\n",
       "    </tr>\n",
       "    <tr>\n",
       "      <th>3</th>\n",
       "      <td>Variant_4</td>\n",
       "      <td>13.4</td>\n",
       "      <td>13.3</td>\n",
       "      <td>13.1</td>\n",
       "      <td>13.266667</td>\n",
       "      <td>0.152753</td>\n",
       "    </tr>\n",
       "    <tr>\n",
       "      <th>4</th>\n",
       "      <td>Variant_5</td>\n",
       "      <td>13.0</td>\n",
       "      <td>12.0</td>\n",
       "      <td>11.0</td>\n",
       "      <td>12.000000</td>\n",
       "      <td>1.000000</td>\n",
       "    </tr>\n",
       "  </tbody>\n",
       "</table>\n",
       "</div>"
      ],
      "text/plain": [
       "          ID  property_value_R1  property_value_R2  property_value_R3  \\\n",
       "0  Variant_1               10.0               11.0                9.0   \n",
       "1  Variant_2               12.7               13.0               12.1   \n",
       "2  Variant_3               14.0               11.0               11.2   \n",
       "3  Variant_4               13.4               13.3               13.1   \n",
       "4  Variant_5               13.0               12.0               11.0   \n",
       "\n",
       "        Mean       Std  \n",
       "0  10.000000  1.000000  \n",
       "1  12.600000  0.458258  \n",
       "2  12.066667  1.677299  \n",
       "3  13.266667  0.152753  \n",
       "4  12.000000  1.000000  "
      ]
     },
     "execution_count": 7,
     "metadata": {},
     "output_type": "execute_result"
    }
   ],
   "source": [
    "calculator = MeanAndStd(df)\n",
    "\n",
    "mean, std = calculator.get_mean_and_std(['property_value_R1', 'property_value_R2', 'property_value_R3'])\n",
    "\n",
    "df['Mean'] = mean\n",
    "df['Std'] = std\n",
    "\n",
    "df.head()"
   ]
  },
  {
   "cell_type": "markdown",
   "metadata": {},
   "source": [
    "The first step in data cleaning is outliers detection and removal. Is recommended to apply at least 2 methods and compare the results. In this tutorial we are using Z-Score and IQR methods."
   ]
  },
  {
   "cell_type": "code",
   "execution_count": 8,
   "metadata": {},
   "outputs": [
    {
     "data": {
      "application/vnd.plotly.v1+json": {
       "config": {
        "plotlyServerURL": "https://plot.ly"
       },
       "data": [
        {
         "marker": {
          "color": [
           "blue",
           "blue",
           "blue",
           "blue",
           "blue",
           "red",
           "blue",
           "blue",
           "blue",
           "blue",
           "blue",
           "blue",
           "blue",
           "blue",
           "blue",
           "blue",
           "blue",
           "blue",
           "blue",
           "blue"
          ]
         },
         "mode": "markers+text",
         "name": "Z-Score",
         "text": [
          "1.0",
          "0.46",
          "1.68",
          "0.15",
          "1.0",
          "100.0",
          "0.1",
          "0.58",
          "0.58",
          "0.58",
          "1.0",
          "0.49",
          "0.15",
          "2.08",
          "2.65",
          "0.44",
          "2.0",
          "0.5",
          "1.0",
          "0.01"
         ],
         "textposition": "top center",
         "type": "scatter",
         "x": [
          "Variant_1",
          "Variant_2",
          "Variant_3",
          "Variant_4",
          "Variant_5",
          "Variant_6",
          "Variant_7",
          "Variant_8",
          "Variant_9",
          "Variant_10",
          "Variant_11",
          "Variant_12",
          "Variant_13",
          "Variant_14",
          "Variant_15",
          "Variant_16",
          "Variant_17",
          "Variant_18",
          "Variant_19",
          "Variant_20"
         ],
         "xaxis": "x",
         "y": [
          10,
          12.6,
          12.066666666666668,
          13.266666666666667,
          12,
          500,
          11.199999999999998,
          14.333333333333334,
          12.666666666666666,
          12.333333333333334,
          9,
          11.666666666666666,
          12.366666666666667,
          15.333333333333334,
          22,
          10.6,
          14,
          18.466666666666665,
          4,
          0.02
         ],
         "yaxis": "y"
        },
        {
         "marker": {
          "color": [
           "green",
           "green",
           "green",
           "green",
           "green",
           "red",
           "green",
           "green",
           "green",
           "green",
           "green",
           "green",
           "green",
           "green",
           "red",
           "green",
           "green",
           "green",
           "red",
           "red"
          ]
         },
         "mode": "markers+text",
         "name": "IQR",
         "text": [
          "1.0",
          "0.46",
          "1.68",
          "0.15",
          "1.0",
          "100.0",
          "0.1",
          "0.58",
          "0.58",
          "0.58",
          "1.0",
          "0.49",
          "0.15",
          "2.08",
          "2.65",
          "0.44",
          "2.0",
          "0.5",
          "1.0",
          "0.01"
         ],
         "textposition": "top center",
         "type": "scatter",
         "x": [
          "Variant_1",
          "Variant_2",
          "Variant_3",
          "Variant_4",
          "Variant_5",
          "Variant_6",
          "Variant_7",
          "Variant_8",
          "Variant_9",
          "Variant_10",
          "Variant_11",
          "Variant_12",
          "Variant_13",
          "Variant_14",
          "Variant_15",
          "Variant_16",
          "Variant_17",
          "Variant_18",
          "Variant_19",
          "Variant_20"
         ],
         "xaxis": "x2",
         "y": [
          10,
          12.6,
          12.066666666666668,
          13.266666666666667,
          12,
          500,
          11.199999999999998,
          14.333333333333334,
          12.666666666666666,
          12.333333333333334,
          9,
          11.666666666666666,
          12.366666666666667,
          15.333333333333334,
          22,
          10.6,
          14,
          18.466666666666665,
          4,
          0.02
         ],
         "yaxis": "y2"
        }
       ],
       "layout": {
        "annotations": [
         {
          "font": {
           "size": 16
          },
          "showarrow": false,
          "text": "Z-Score Method",
          "x": 0.225,
          "xanchor": "center",
          "xref": "paper",
          "y": 1,
          "yanchor": "bottom",
          "yref": "paper"
         },
         {
          "font": {
           "size": 16
          },
          "showarrow": false,
          "text": "IQR Method",
          "x": 0.775,
          "xanchor": "center",
          "xref": "paper",
          "y": 1,
          "yanchor": "bottom",
          "yref": "paper"
         }
        ],
        "showlegend": false,
        "template": {
         "data": {
          "bar": [
           {
            "error_x": {
             "color": "#2a3f5f"
            },
            "error_y": {
             "color": "#2a3f5f"
            },
            "marker": {
             "line": {
              "color": "#E5ECF6",
              "width": 0.5
             },
             "pattern": {
              "fillmode": "overlay",
              "size": 10,
              "solidity": 0.2
             }
            },
            "type": "bar"
           }
          ],
          "barpolar": [
           {
            "marker": {
             "line": {
              "color": "#E5ECF6",
              "width": 0.5
             },
             "pattern": {
              "fillmode": "overlay",
              "size": 10,
              "solidity": 0.2
             }
            },
            "type": "barpolar"
           }
          ],
          "carpet": [
           {
            "aaxis": {
             "endlinecolor": "#2a3f5f",
             "gridcolor": "white",
             "linecolor": "white",
             "minorgridcolor": "white",
             "startlinecolor": "#2a3f5f"
            },
            "baxis": {
             "endlinecolor": "#2a3f5f",
             "gridcolor": "white",
             "linecolor": "white",
             "minorgridcolor": "white",
             "startlinecolor": "#2a3f5f"
            },
            "type": "carpet"
           }
          ],
          "choropleth": [
           {
            "colorbar": {
             "outlinewidth": 0,
             "ticks": ""
            },
            "type": "choropleth"
           }
          ],
          "contour": [
           {
            "colorbar": {
             "outlinewidth": 0,
             "ticks": ""
            },
            "colorscale": [
             [
              0,
              "#0d0887"
             ],
             [
              0.1111111111111111,
              "#46039f"
             ],
             [
              0.2222222222222222,
              "#7201a8"
             ],
             [
              0.3333333333333333,
              "#9c179e"
             ],
             [
              0.4444444444444444,
              "#bd3786"
             ],
             [
              0.5555555555555556,
              "#d8576b"
             ],
             [
              0.6666666666666666,
              "#ed7953"
             ],
             [
              0.7777777777777778,
              "#fb9f3a"
             ],
             [
              0.8888888888888888,
              "#fdca26"
             ],
             [
              1,
              "#f0f921"
             ]
            ],
            "type": "contour"
           }
          ],
          "contourcarpet": [
           {
            "colorbar": {
             "outlinewidth": 0,
             "ticks": ""
            },
            "type": "contourcarpet"
           }
          ],
          "heatmap": [
           {
            "colorbar": {
             "outlinewidth": 0,
             "ticks": ""
            },
            "colorscale": [
             [
              0,
              "#0d0887"
             ],
             [
              0.1111111111111111,
              "#46039f"
             ],
             [
              0.2222222222222222,
              "#7201a8"
             ],
             [
              0.3333333333333333,
              "#9c179e"
             ],
             [
              0.4444444444444444,
              "#bd3786"
             ],
             [
              0.5555555555555556,
              "#d8576b"
             ],
             [
              0.6666666666666666,
              "#ed7953"
             ],
             [
              0.7777777777777778,
              "#fb9f3a"
             ],
             [
              0.8888888888888888,
              "#fdca26"
             ],
             [
              1,
              "#f0f921"
             ]
            ],
            "type": "heatmap"
           }
          ],
          "heatmapgl": [
           {
            "colorbar": {
             "outlinewidth": 0,
             "ticks": ""
            },
            "colorscale": [
             [
              0,
              "#0d0887"
             ],
             [
              0.1111111111111111,
              "#46039f"
             ],
             [
              0.2222222222222222,
              "#7201a8"
             ],
             [
              0.3333333333333333,
              "#9c179e"
             ],
             [
              0.4444444444444444,
              "#bd3786"
             ],
             [
              0.5555555555555556,
              "#d8576b"
             ],
             [
              0.6666666666666666,
              "#ed7953"
             ],
             [
              0.7777777777777778,
              "#fb9f3a"
             ],
             [
              0.8888888888888888,
              "#fdca26"
             ],
             [
              1,
              "#f0f921"
             ]
            ],
            "type": "heatmapgl"
           }
          ],
          "histogram": [
           {
            "marker": {
             "pattern": {
              "fillmode": "overlay",
              "size": 10,
              "solidity": 0.2
             }
            },
            "type": "histogram"
           }
          ],
          "histogram2d": [
           {
            "colorbar": {
             "outlinewidth": 0,
             "ticks": ""
            },
            "colorscale": [
             [
              0,
              "#0d0887"
             ],
             [
              0.1111111111111111,
              "#46039f"
             ],
             [
              0.2222222222222222,
              "#7201a8"
             ],
             [
              0.3333333333333333,
              "#9c179e"
             ],
             [
              0.4444444444444444,
              "#bd3786"
             ],
             [
              0.5555555555555556,
              "#d8576b"
             ],
             [
              0.6666666666666666,
              "#ed7953"
             ],
             [
              0.7777777777777778,
              "#fb9f3a"
             ],
             [
              0.8888888888888888,
              "#fdca26"
             ],
             [
              1,
              "#f0f921"
             ]
            ],
            "type": "histogram2d"
           }
          ],
          "histogram2dcontour": [
           {
            "colorbar": {
             "outlinewidth": 0,
             "ticks": ""
            },
            "colorscale": [
             [
              0,
              "#0d0887"
             ],
             [
              0.1111111111111111,
              "#46039f"
             ],
             [
              0.2222222222222222,
              "#7201a8"
             ],
             [
              0.3333333333333333,
              "#9c179e"
             ],
             [
              0.4444444444444444,
              "#bd3786"
             ],
             [
              0.5555555555555556,
              "#d8576b"
             ],
             [
              0.6666666666666666,
              "#ed7953"
             ],
             [
              0.7777777777777778,
              "#fb9f3a"
             ],
             [
              0.8888888888888888,
              "#fdca26"
             ],
             [
              1,
              "#f0f921"
             ]
            ],
            "type": "histogram2dcontour"
           }
          ],
          "mesh3d": [
           {
            "colorbar": {
             "outlinewidth": 0,
             "ticks": ""
            },
            "type": "mesh3d"
           }
          ],
          "parcoords": [
           {
            "line": {
             "colorbar": {
              "outlinewidth": 0,
              "ticks": ""
             }
            },
            "type": "parcoords"
           }
          ],
          "pie": [
           {
            "automargin": true,
            "type": "pie"
           }
          ],
          "scatter": [
           {
            "fillpattern": {
             "fillmode": "overlay",
             "size": 10,
             "solidity": 0.2
            },
            "type": "scatter"
           }
          ],
          "scatter3d": [
           {
            "line": {
             "colorbar": {
              "outlinewidth": 0,
              "ticks": ""
             }
            },
            "marker": {
             "colorbar": {
              "outlinewidth": 0,
              "ticks": ""
             }
            },
            "type": "scatter3d"
           }
          ],
          "scattercarpet": [
           {
            "marker": {
             "colorbar": {
              "outlinewidth": 0,
              "ticks": ""
             }
            },
            "type": "scattercarpet"
           }
          ],
          "scattergeo": [
           {
            "marker": {
             "colorbar": {
              "outlinewidth": 0,
              "ticks": ""
             }
            },
            "type": "scattergeo"
           }
          ],
          "scattergl": [
           {
            "marker": {
             "colorbar": {
              "outlinewidth": 0,
              "ticks": ""
             }
            },
            "type": "scattergl"
           }
          ],
          "scattermapbox": [
           {
            "marker": {
             "colorbar": {
              "outlinewidth": 0,
              "ticks": ""
             }
            },
            "type": "scattermapbox"
           }
          ],
          "scatterpolar": [
           {
            "marker": {
             "colorbar": {
              "outlinewidth": 0,
              "ticks": ""
             }
            },
            "type": "scatterpolar"
           }
          ],
          "scatterpolargl": [
           {
            "marker": {
             "colorbar": {
              "outlinewidth": 0,
              "ticks": ""
             }
            },
            "type": "scatterpolargl"
           }
          ],
          "scatterternary": [
           {
            "marker": {
             "colorbar": {
              "outlinewidth": 0,
              "ticks": ""
             }
            },
            "type": "scatterternary"
           }
          ],
          "surface": [
           {
            "colorbar": {
             "outlinewidth": 0,
             "ticks": ""
            },
            "colorscale": [
             [
              0,
              "#0d0887"
             ],
             [
              0.1111111111111111,
              "#46039f"
             ],
             [
              0.2222222222222222,
              "#7201a8"
             ],
             [
              0.3333333333333333,
              "#9c179e"
             ],
             [
              0.4444444444444444,
              "#bd3786"
             ],
             [
              0.5555555555555556,
              "#d8576b"
             ],
             [
              0.6666666666666666,
              "#ed7953"
             ],
             [
              0.7777777777777778,
              "#fb9f3a"
             ],
             [
              0.8888888888888888,
              "#fdca26"
             ],
             [
              1,
              "#f0f921"
             ]
            ],
            "type": "surface"
           }
          ],
          "table": [
           {
            "cells": {
             "fill": {
              "color": "#EBF0F8"
             },
             "line": {
              "color": "white"
             }
            },
            "header": {
             "fill": {
              "color": "#C8D4E3"
             },
             "line": {
              "color": "white"
             }
            },
            "type": "table"
           }
          ]
         },
         "layout": {
          "annotationdefaults": {
           "arrowcolor": "#2a3f5f",
           "arrowhead": 0,
           "arrowwidth": 1
          },
          "autotypenumbers": "strict",
          "coloraxis": {
           "colorbar": {
            "outlinewidth": 0,
            "ticks": ""
           }
          },
          "colorscale": {
           "diverging": [
            [
             0,
             "#8e0152"
            ],
            [
             0.1,
             "#c51b7d"
            ],
            [
             0.2,
             "#de77ae"
            ],
            [
             0.3,
             "#f1b6da"
            ],
            [
             0.4,
             "#fde0ef"
            ],
            [
             0.5,
             "#f7f7f7"
            ],
            [
             0.6,
             "#e6f5d0"
            ],
            [
             0.7,
             "#b8e186"
            ],
            [
             0.8,
             "#7fbc41"
            ],
            [
             0.9,
             "#4d9221"
            ],
            [
             1,
             "#276419"
            ]
           ],
           "sequential": [
            [
             0,
             "#0d0887"
            ],
            [
             0.1111111111111111,
             "#46039f"
            ],
            [
             0.2222222222222222,
             "#7201a8"
            ],
            [
             0.3333333333333333,
             "#9c179e"
            ],
            [
             0.4444444444444444,
             "#bd3786"
            ],
            [
             0.5555555555555556,
             "#d8576b"
            ],
            [
             0.6666666666666666,
             "#ed7953"
            ],
            [
             0.7777777777777778,
             "#fb9f3a"
            ],
            [
             0.8888888888888888,
             "#fdca26"
            ],
            [
             1,
             "#f0f921"
            ]
           ],
           "sequentialminus": [
            [
             0,
             "#0d0887"
            ],
            [
             0.1111111111111111,
             "#46039f"
            ],
            [
             0.2222222222222222,
             "#7201a8"
            ],
            [
             0.3333333333333333,
             "#9c179e"
            ],
            [
             0.4444444444444444,
             "#bd3786"
            ],
            [
             0.5555555555555556,
             "#d8576b"
            ],
            [
             0.6666666666666666,
             "#ed7953"
            ],
            [
             0.7777777777777778,
             "#fb9f3a"
            ],
            [
             0.8888888888888888,
             "#fdca26"
            ],
            [
             1,
             "#f0f921"
            ]
           ]
          },
          "colorway": [
           "#636efa",
           "#EF553B",
           "#00cc96",
           "#ab63fa",
           "#FFA15A",
           "#19d3f3",
           "#FF6692",
           "#B6E880",
           "#FF97FF",
           "#FECB52"
          ],
          "font": {
           "color": "#2a3f5f"
          },
          "geo": {
           "bgcolor": "white",
           "lakecolor": "white",
           "landcolor": "#E5ECF6",
           "showlakes": true,
           "showland": true,
           "subunitcolor": "white"
          },
          "hoverlabel": {
           "align": "left"
          },
          "hovermode": "closest",
          "mapbox": {
           "style": "light"
          },
          "paper_bgcolor": "white",
          "plot_bgcolor": "#E5ECF6",
          "polar": {
           "angularaxis": {
            "gridcolor": "white",
            "linecolor": "white",
            "ticks": ""
           },
           "bgcolor": "#E5ECF6",
           "radialaxis": {
            "gridcolor": "white",
            "linecolor": "white",
            "ticks": ""
           }
          },
          "scene": {
           "xaxis": {
            "backgroundcolor": "#E5ECF6",
            "gridcolor": "white",
            "gridwidth": 2,
            "linecolor": "white",
            "showbackground": true,
            "ticks": "",
            "zerolinecolor": "white"
           },
           "yaxis": {
            "backgroundcolor": "#E5ECF6",
            "gridcolor": "white",
            "gridwidth": 2,
            "linecolor": "white",
            "showbackground": true,
            "ticks": "",
            "zerolinecolor": "white"
           },
           "zaxis": {
            "backgroundcolor": "#E5ECF6",
            "gridcolor": "white",
            "gridwidth": 2,
            "linecolor": "white",
            "showbackground": true,
            "ticks": "",
            "zerolinecolor": "white"
           }
          },
          "shapedefaults": {
           "line": {
            "color": "#2a3f5f"
           }
          },
          "ternary": {
           "aaxis": {
            "gridcolor": "white",
            "linecolor": "white",
            "ticks": ""
           },
           "baxis": {
            "gridcolor": "white",
            "linecolor": "white",
            "ticks": ""
           },
           "bgcolor": "#E5ECF6",
           "caxis": {
            "gridcolor": "white",
            "linecolor": "white",
            "ticks": ""
           }
          },
          "title": {
           "x": 0.05
          },
          "xaxis": {
           "automargin": true,
           "gridcolor": "white",
           "linecolor": "white",
           "ticks": "",
           "title": {
            "standoff": 15
           },
           "zerolinecolor": "white",
           "zerolinewidth": 2
          },
          "yaxis": {
           "automargin": true,
           "gridcolor": "white",
           "linecolor": "white",
           "ticks": "",
           "title": {
            "standoff": 15
           },
           "zerolinecolor": "white",
           "zerolinewidth": 2
          }
         }
        },
        "xaxis": {
         "anchor": "y",
         "domain": [
          0,
          0.45
         ]
        },
        "xaxis2": {
         "anchor": "y2",
         "domain": [
          0.55,
          1
         ]
        },
        "yaxis": {
         "anchor": "x",
         "domain": [
          0,
          1
         ]
        },
        "yaxis2": {
         "anchor": "x2",
         "domain": [
          0,
          1
         ]
        }
       }
      }
     },
     "metadata": {},
     "output_type": "display_data"
    }
   ],
   "source": [
    "outlier_detector = DataOutliers(df)\n",
    "\n",
    "outlier_detector.detect_outliers_and_report('Mean', 'ID', std_dev=df['Std'])"
   ]
  },
  {
   "cell_type": "markdown",
   "metadata": {},
   "source": [
    "NOTE: In GitHub Plotly figures are not visible"
   ]
  },
  {
   "cell_type": "markdown",
   "metadata": {},
   "source": [
    "In the above figure there is only 1 true outlier (variant 6). This is beacuse it is identified as an outlier by both methods but also it has a standard deviation of 100 units. On the contrary, variants 15, 19 and 20 are also identified as outliers by the IQR method but the standard deviation of the replicates is considerably low. This means that it is highly likely that there is a biological variability associated with these variants an they should be kept in the dataset. However, when no replicate data is available, this assesment becomes impossible. In such cases is better to keep the entire dataset without outlier removal. "
   ]
  },
  {
   "cell_type": "markdown",
   "metadata": {},
   "source": [
    "IMPORTANT! Apart from outliers NaN and other invalid data must be removed from the dataset during the cleaning phase"
   ]
  },
  {
   "cell_type": "markdown",
   "metadata": {},
   "source": [
    "Before continuing with the data exploration, transform the labels to a logarithmic scale to ease the interpretability and get better insights from the exploratory data analysis."
   ]
  },
  {
   "cell_type": "code",
   "execution_count": 9,
   "metadata": {},
   "outputs": [
    {
     "data": {
      "text/html": [
       "<div>\n",
       "<style scoped>\n",
       "    .dataframe tbody tr th:only-of-type {\n",
       "        vertical-align: middle;\n",
       "    }\n",
       "\n",
       "    .dataframe tbody tr th {\n",
       "        vertical-align: top;\n",
       "    }\n",
       "\n",
       "    .dataframe thead th {\n",
       "        text-align: right;\n",
       "    }\n",
       "</style>\n",
       "<table border=\"1\" class=\"dataframe\">\n",
       "  <thead>\n",
       "    <tr style=\"text-align: right;\">\n",
       "      <th></th>\n",
       "      <th>ID</th>\n",
       "      <th>property_value_R1</th>\n",
       "      <th>property_value_R2</th>\n",
       "      <th>property_value_R3</th>\n",
       "      <th>Mean</th>\n",
       "      <th>Std</th>\n",
       "      <th>Log_property</th>\n",
       "    </tr>\n",
       "  </thead>\n",
       "  <tbody>\n",
       "    <tr>\n",
       "      <th>0</th>\n",
       "      <td>Variant_1</td>\n",
       "      <td>10.0</td>\n",
       "      <td>11.0</td>\n",
       "      <td>9.0</td>\n",
       "      <td>10.000000</td>\n",
       "      <td>1.000000</td>\n",
       "      <td>-0.182322</td>\n",
       "    </tr>\n",
       "    <tr>\n",
       "      <th>1</th>\n",
       "      <td>Variant_2</td>\n",
       "      <td>12.7</td>\n",
       "      <td>13.0</td>\n",
       "      <td>12.1</td>\n",
       "      <td>12.600000</td>\n",
       "      <td>0.458258</td>\n",
       "      <td>0.048790</td>\n",
       "    </tr>\n",
       "    <tr>\n",
       "      <th>2</th>\n",
       "      <td>Variant_3</td>\n",
       "      <td>14.0</td>\n",
       "      <td>11.0</td>\n",
       "      <td>11.2</td>\n",
       "      <td>12.066667</td>\n",
       "      <td>1.677299</td>\n",
       "      <td>0.005540</td>\n",
       "    </tr>\n",
       "    <tr>\n",
       "      <th>3</th>\n",
       "      <td>Variant_4</td>\n",
       "      <td>13.4</td>\n",
       "      <td>13.3</td>\n",
       "      <td>13.1</td>\n",
       "      <td>13.266667</td>\n",
       "      <td>0.152753</td>\n",
       "      <td>0.100348</td>\n",
       "    </tr>\n",
       "    <tr>\n",
       "      <th>4</th>\n",
       "      <td>Variant_5</td>\n",
       "      <td>13.0</td>\n",
       "      <td>12.0</td>\n",
       "      <td>11.0</td>\n",
       "      <td>12.000000</td>\n",
       "      <td>1.000000</td>\n",
       "      <td>0.000000</td>\n",
       "    </tr>\n",
       "  </tbody>\n",
       "</table>\n",
       "</div>"
      ],
      "text/plain": [
       "          ID  property_value_R1  property_value_R2  property_value_R3  \\\n",
       "0  Variant_1               10.0               11.0                9.0   \n",
       "1  Variant_2               12.7               13.0               12.1   \n",
       "2  Variant_3               14.0               11.0               11.2   \n",
       "3  Variant_4               13.4               13.3               13.1   \n",
       "4  Variant_5               13.0               12.0               11.0   \n",
       "\n",
       "        Mean       Std  Log_property  \n",
       "0  10.000000  1.000000     -0.182322  \n",
       "1  12.600000  0.458258      0.048790  \n",
       "2  12.066667  1.677299      0.005540  \n",
       "3  13.266667  0.152753      0.100348  \n",
       "4  12.000000  1.000000      0.000000  "
      ]
     },
     "execution_count": 9,
     "metadata": {},
     "output_type": "execute_result"
    }
   ],
   "source": [
    "transformer = LogarithmicTransform(df)\n",
    "\n",
    "transformed_data = transformer.transform_to_logarithmic('Mean', 12) # 12 is a hypothetical value for the wildtype\n",
    "df ['Log_property'] = transformed_data\n",
    "df.head()"
   ]
  },
  {
   "cell_type": "markdown",
   "metadata": {},
   "source": [
    "This final tranformation of the labels to a logarithmic score allows easier interpretation of the data as a positive value means improved variant, negative mean non beneficial mutation and zero means no change with respect to the wildtype."
   ]
  },
  {
   "cell_type": "markdown",
   "metadata": {},
   "source": [
    "# 2. Exploratory data analysis\n",
    "\n",
    "This part of the notebook contains a set of basic steps for exploratory data analysis of protein variant data. Further steps might be required depending on the complexity of the respective dataset. A synthetic dataset was generated for demostration porposes."
   ]
  },
  {
   "cell_type": "code",
   "execution_count": 16,
   "metadata": {},
   "outputs": [],
   "source": [
    "import matplotlib.pyplot as plt\n",
    "import seaborn as sns "
   ]
  },
  {
   "cell_type": "code",
   "execution_count": 1,
   "metadata": {},
   "outputs": [],
   "source": [
    "from create_synthetic_data import ProteinVariantGenerator"
   ]
  },
  {
   "cell_type": "code",
   "execution_count": 2,
   "metadata": {},
   "outputs": [
    {
     "data": {
      "text/html": [
       "<div>\n",
       "<style scoped>\n",
       "    .dataframe tbody tr th:only-of-type {\n",
       "        vertical-align: middle;\n",
       "    }\n",
       "\n",
       "    .dataframe tbody tr th {\n",
       "        vertical-align: top;\n",
       "    }\n",
       "\n",
       "    .dataframe thead th {\n",
       "        text-align: right;\n",
       "    }\n",
       "</style>\n",
       "<table border=\"1\" class=\"dataframe\">\n",
       "  <thead>\n",
       "    <tr style=\"text-align: right;\">\n",
       "      <th></th>\n",
       "      <th>ID</th>\n",
       "      <th>Position</th>\n",
       "      <th>Distance_AS</th>\n",
       "      <th>Secondary_structure</th>\n",
       "      <th>Log_fitness</th>\n",
       "    </tr>\n",
       "  </thead>\n",
       "  <tbody>\n",
       "    <tr>\n",
       "      <th>0</th>\n",
       "      <td>E328A</td>\n",
       "      <td>328</td>\n",
       "      <td>15.09</td>\n",
       "      <td>beta</td>\n",
       "      <td>1.497</td>\n",
       "    </tr>\n",
       "    <tr>\n",
       "      <th>1</th>\n",
       "      <td>E378W</td>\n",
       "      <td>378</td>\n",
       "      <td>2.65</td>\n",
       "      <td>coil</td>\n",
       "      <td>0.862</td>\n",
       "    </tr>\n",
       "    <tr>\n",
       "      <th>2</th>\n",
       "      <td>H48K</td>\n",
       "      <td>48</td>\n",
       "      <td>10.60</td>\n",
       "      <td>alpha</td>\n",
       "      <td>-4.295</td>\n",
       "    </tr>\n",
       "    <tr>\n",
       "      <th>3</th>\n",
       "      <td>V367Q</td>\n",
       "      <td>367</td>\n",
       "      <td>5.19</td>\n",
       "      <td>loop</td>\n",
       "      <td>2.523</td>\n",
       "    </tr>\n",
       "    <tr>\n",
       "      <th>4</th>\n",
       "      <td>A446H</td>\n",
       "      <td>446</td>\n",
       "      <td>14.26</td>\n",
       "      <td>turn</td>\n",
       "      <td>0.766</td>\n",
       "    </tr>\n",
       "  </tbody>\n",
       "</table>\n",
       "</div>"
      ],
      "text/plain": [
       "      ID  Position  Distance_AS Secondary_structure  Log_fitness\n",
       "0  E328A       328        15.09                beta        1.497\n",
       "1  E378W       378         2.65                coil        0.862\n",
       "2   H48K        48        10.60               alpha       -4.295\n",
       "3  V367Q       367         5.19                loop        2.523\n",
       "4  A446H       446        14.26                turn        0.766"
      ]
     },
     "execution_count": 2,
     "metadata": {},
     "output_type": "execute_result"
    }
   ],
   "source": [
    "generator = ProteinVariantGenerator(n_samples=1000)\n",
    "data = generator.generate_data_frame()\n",
    "data.head()"
   ]
  },
  {
   "cell_type": "markdown",
   "metadata": {},
   "source": [
    "The first step of the exploratory data analysis is to obtain the data types and compute general statistics to get a grasp of the data at hand. Also plot distributions for numerical variables and frecuencies for categorical variables."
   ]
  },
  {
   "cell_type": "code",
   "execution_count": 3,
   "metadata": {},
   "outputs": [
    {
     "data": {
      "text/plain": [
       "ID                      object\n",
       "Position                 int64\n",
       "Distance_AS            float64\n",
       "Secondary_structure     object\n",
       "Log_fitness            float64\n",
       "dtype: object"
      ]
     },
     "execution_count": 3,
     "metadata": {},
     "output_type": "execute_result"
    }
   ],
   "source": [
    "data.dtypes"
   ]
  },
  {
   "cell_type": "code",
   "execution_count": 4,
   "metadata": {},
   "outputs": [
    {
     "data": {
      "text/html": [
       "<div>\n",
       "<style scoped>\n",
       "    .dataframe tbody tr th:only-of-type {\n",
       "        vertical-align: middle;\n",
       "    }\n",
       "\n",
       "    .dataframe tbody tr th {\n",
       "        vertical-align: top;\n",
       "    }\n",
       "\n",
       "    .dataframe thead th {\n",
       "        text-align: right;\n",
       "    }\n",
       "</style>\n",
       "<table border=\"1\" class=\"dataframe\">\n",
       "  <thead>\n",
       "    <tr style=\"text-align: right;\">\n",
       "      <th></th>\n",
       "      <th>count</th>\n",
       "      <th>mean</th>\n",
       "      <th>std</th>\n",
       "      <th>min</th>\n",
       "      <th>25%</th>\n",
       "      <th>50%</th>\n",
       "      <th>75%</th>\n",
       "      <th>max</th>\n",
       "    </tr>\n",
       "  </thead>\n",
       "  <tbody>\n",
       "    <tr>\n",
       "      <th>Position</th>\n",
       "      <td>1000.0</td>\n",
       "      <td>246.209000</td>\n",
       "      <td>140.798606</td>\n",
       "      <td>1.00</td>\n",
       "      <td>123.75000</td>\n",
       "      <td>242.000</td>\n",
       "      <td>365.0000</td>\n",
       "      <td>500.00</td>\n",
       "    </tr>\n",
       "    <tr>\n",
       "      <th>Distance_AS</th>\n",
       "      <td>1000.0</td>\n",
       "      <td>10.603660</td>\n",
       "      <td>5.452203</td>\n",
       "      <td>1.01</td>\n",
       "      <td>5.97000</td>\n",
       "      <td>10.620</td>\n",
       "      <td>15.3225</td>\n",
       "      <td>19.99</td>\n",
       "    </tr>\n",
       "    <tr>\n",
       "      <th>Log_fitness</th>\n",
       "      <td>1000.0</td>\n",
       "      <td>-1.744232</td>\n",
       "      <td>2.490020</td>\n",
       "      <td>-7.00</td>\n",
       "      <td>-3.63225</td>\n",
       "      <td>-1.881</td>\n",
       "      <td>0.4080</td>\n",
       "      <td>3.00</td>\n",
       "    </tr>\n",
       "  </tbody>\n",
       "</table>\n",
       "</div>"
      ],
      "text/plain": [
       "              count        mean         std   min        25%      50%  \\\n",
       "Position     1000.0  246.209000  140.798606  1.00  123.75000  242.000   \n",
       "Distance_AS  1000.0   10.603660    5.452203  1.01    5.97000   10.620   \n",
       "Log_fitness  1000.0   -1.744232    2.490020 -7.00   -3.63225   -1.881   \n",
       "\n",
       "                  75%     max  \n",
       "Position     365.0000  500.00  \n",
       "Distance_AS   15.3225   19.99  \n",
       "Log_fitness    0.4080    3.00  "
      ]
     },
     "execution_count": 4,
     "metadata": {},
     "output_type": "execute_result"
    }
   ],
   "source": [
    "data.describe().T"
   ]
  },
  {
   "cell_type": "code",
   "execution_count": 10,
   "metadata": {},
   "outputs": [
    {
     "name": "stdout",
     "output_type": "stream",
     "text": [
      "Numerical_features:\n",
      "['Position', 'Distance_AS', 'Log_fitness']\n",
      "\n",
      "Categorical_features:\n",
      "['Secondary_structure']\n"
     ]
    }
   ],
   "source": [
    "numeric_features = list(data.select_dtypes(include=['float64', 'int64']))\n",
    "categorical_features = list(data.select_dtypes('object'))\n",
    "categorical_features.remove('ID')\n",
    "\n",
    "print(f'Numerical_features:\\n{numeric_features}\\n\\nCategorical_features:\\n{categorical_features}')"
   ]
  },
  {
   "cell_type": "code",
   "execution_count": 18,
   "metadata": {},
   "outputs": [
    {
     "name": "stdout",
     "output_type": "stream",
     "text": [
      "Position...\n",
      "\n",
      "Skew:  0.04\n"
     ]
    },
    {
     "data": {
      "image/png": "[encoded data removed]",
      "text/plain": [
       "<Figure size 1500x400 with 2 Axes>"
      ]
     },
     "metadata": {},
     "output_type": "display_data"
    },
    {
     "name": "stdout",
     "output_type": "stream",
     "text": [
      "Distance_AS...\n",
      "\n",
      "Skew:  -0.02\n"
     ]
    },
    {
     "data": {
      "image/png": "[encoded data removed]",
      "text/plain": [
       "<Figure size 1500x400 with 2 Axes>"
      ]
     },
     "metadata": {},
     "output_type": "display_data"
    },
    {
     "name": "stdout",
     "output_type": "stream",
     "text": [
      "Log_fitness...\n",
      "\n",
      "Skew:  -0.08\n"
     ]
    },
    {
     "data": {
      "image/png": "[encoded data removed]",
      "text/plain": [
       "<Figure size 1500x400 with 2 Axes>"
      ]
     },
     "metadata": {},
     "output_type": "display_data"
    }
   ],
   "source": [
    "for feature in numeric_features:\n",
    "    print(f'{feature}...\\n')\n",
    "    print('Skew: ', round(data[feature].skew(), 2))\n",
    "    \n",
    "    plt.figure(figsize=(15, 4))\n",
    "    \n",
    "    plt.subplot(1, 2, 1)\n",
    "    data[feature].hist()\n",
    "    plt.xlabel(feature)  \n",
    "    plt.ylabel('Count')\n",
    "    \n",
    "    plt.subplot(1, 2, 2)\n",
    "    plt.boxplot(\n",
    "        x=data[feature],\n",
    "        vert=False,\n",
    "        patch_artist=True,\n",
    "        boxprops=dict(facecolor='blue'),\n",
    "        flierprops=dict(\n",
    "            marker='o',\n",
    "            markerfacecolor='red',\n",
    "            markersize=8,\n",
    "            markeredgecolor='black'\n",
    "        )\n",
    "    )\n",
    "    plt.xlabel(feature)\n",
    "    plt.yticks([])\n",
    "    plt.grid(axis='x', alpha=0.3)\n",
    "    \n",
    "    plt.tight_layout()\n",
    "    plt.show()"
   ]
  },
  {
   "cell_type": "code",
   "execution_count": 25,
   "metadata": {},
   "outputs": [
    {
     "data": {
      "text/plain": [
       "<Axes: xlabel='count', ylabel='Secondary_structure'>"
      ]
     },
     "execution_count": 25,
     "metadata": {},
     "output_type": "execute_result"
    },
    {
     "data": {
      "image/png": "[encoded data removed]",
      "text/plain": [
       "<Figure size 1500x400 with 1 Axes>"
      ]
     },
     "metadata": {},
     "output_type": "display_data"
    }
   ],
   "source": [
    "plt.figure(figsize=(15, 4))\n",
    "sns.countplot(data['Secondary_structure'])"
   ]
  },
  {
   "cell_type": "markdown",
   "metadata": {},
   "source": [
    "These general statistics and distribution provide a general overview of the data. When looging at the position both from the statistic table and the figures can be observed that the mutations are evenly distributed through the entire sequence. The minimun distance to the active site is 1.01 and the maximun 19.99. Inside this range there is an uniform distribution of the distance. Finally, the fitness (target property) shows an imbalance in the dataset towards non-beneficial mutations as ~70% of the data has negative logarithmic scores. This means that most muatations in the dataset lead to a decrease in the fitness with respect to the wildtype. This imbalance must be address properly."
   ]
  }
 ],
 "metadata": {
  "kernelspec": {
   "display_name": "ProteinEngineering",
   "language": "python",
   "name": "python3"
  },
  "language_info": {
   "codemirror_mode": {
    "name": "ipython",
    "version": 3
   },
   "file_extension": ".py",
   "mimetype": "text/x-python",
   "name": "python",
   "nbconvert_exporter": "python",
   "pygments_lexer": "ipython3",
   "version": "3.11.9"
  }
 },
 "nbformat": 4,
 "nbformat_minor": 2
}
