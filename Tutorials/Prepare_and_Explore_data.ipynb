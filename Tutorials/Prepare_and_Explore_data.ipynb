{
 "cells": [
  {
   "cell_type": "code",
   "execution_count": null,
   "metadata": {},
   "outputs": [],
   "source": [
    "import pandas as pd\n",
    "import numpy as np  \n",
    "import matplotlib.pyplot as plt\n",
    "from Scripts.data_processing import DataProcessing"
   ]
  },
  {
   "cell_type": "code",
   "execution_count": 2,
   "metadata": {},
   "outputs": [
    {
     "data": {
      "text/html": [
       "<div>\n",
       "<style scoped>\n",
       "    .dataframe tbody tr th:only-of-type {\n",
       "        vertical-align: middle;\n",
       "    }\n",
       "\n",
       "    .dataframe tbody tr th {\n",
       "        vertical-align: top;\n",
       "    }\n",
       "\n",
       "    .dataframe thead th {\n",
       "        text-align: right;\n",
       "    }\n",
       "</style>\n",
       "<table border=\"1\" class=\"dataframe\">\n",
       "  <thead>\n",
       "    <tr style=\"text-align: right;\">\n",
       "      <th></th>\n",
       "      <th>mutant</th>\n",
       "      <th>dataset</th>\n",
       "      <th>mutated_sequence</th>\n",
       "      <th>expression</th>\n",
       "    </tr>\n",
       "  </thead>\n",
       "  <tbody>\n",
       "    <tr>\n",
       "      <th>0</th>\n",
       "      <td>S142L-T152P-L158V-G298M-E351Q</td>\n",
       "      <td>2</td>\n",
       "      <td>LTAPSIKSGTILHAWNWSFNTLKHNMKDIHDAGYTAIQTSPINQVK...</td>\n",
       "      <td>0.815</td>\n",
       "    </tr>\n",
       "    <tr>\n",
       "      <th>1</th>\n",
       "      <td>K007D</td>\n",
       "      <td>1</td>\n",
       "      <td>LTAPSIDSGTILHAWNWSFNTLKHNMKDIHDAGYTAIQTSPINQVK...</td>\n",
       "      <td>0.830</td>\n",
       "    </tr>\n",
       "    <tr>\n",
       "      <th>2</th>\n",
       "      <td>A086E</td>\n",
       "      <td>1</td>\n",
       "      <td>LTAPSIKSGTILHAWNWSFNTLKHNMKDIHDAGYTAIQTSPINQVK...</td>\n",
       "      <td>1.560</td>\n",
       "    </tr>\n",
       "    <tr>\n",
       "      <th>3</th>\n",
       "      <td>S005E-S131H</td>\n",
       "      <td>2</td>\n",
       "      <td>LTAPEIKSGTILHAWNWSFNTLKHNMKDIHDAGYTAIQTSPINQVK...</td>\n",
       "      <td>0.452</td>\n",
       "    </tr>\n",
       "    <tr>\n",
       "      <th>4</th>\n",
       "      <td>T413H</td>\n",
       "      <td>1</td>\n",
       "      <td>LTAPSIKSGTILHAWNWSFNTLKHNMKDIHDAGYTAIQTSPINQVK...</td>\n",
       "      <td>1.010</td>\n",
       "    </tr>\n",
       "  </tbody>\n",
       "</table>\n",
       "</div>"
      ],
      "text/plain": [
       "                          mutant  dataset  \\\n",
       "0  S142L-T152P-L158V-G298M-E351Q        2   \n",
       "1                          K007D        1   \n",
       "2                          A086E        1   \n",
       "3                    S005E-S131H        2   \n",
       "4                          T413H        1   \n",
       "\n",
       "                                    mutated_sequence  expression  \n",
       "0  LTAPSIKSGTILHAWNWSFNTLKHNMKDIHDAGYTAIQTSPINQVK...       0.815  \n",
       "1  LTAPSIDSGTILHAWNWSFNTLKHNMKDIHDAGYTAIQTSPINQVK...       0.830  \n",
       "2  LTAPSIKSGTILHAWNWSFNTLKHNMKDIHDAGYTAIQTSPINQVK...       1.560  \n",
       "3  LTAPEIKSGTILHAWNWSFNTLKHNMKDIHDAGYTAIQTSPINQVK...       0.452  \n",
       "4  LTAPSIKSGTILHAWNWSFNTLKHNMKDIHDAGYTAIQTSPINQVK...       1.010  "
      ]
     },
     "execution_count": 2,
     "metadata": {},
     "output_type": "execute_result"
    }
   ],
   "source": [
    "data = pd.read_csv('../Data/raw_data/Alpha_Amylase.csv')\n",
    "data.head()"
   ]
  },
  {
   "cell_type": "code",
   "execution_count": 7,
   "metadata": {},
   "outputs": [
    {
     "name": "stdout",
     "output_type": "stream",
     "text": [
      "<class 'pandas.core.series.Series'>\n",
      "RangeIndex: 12294 entries, 0 to 12293\n",
      "Series name: expression\n",
      "Non-Null Count  Dtype  \n",
      "--------------  -----  \n",
      "11370 non-null  float64\n",
      "dtypes: float64(1)\n",
      "memory usage: 96.2 KB\n"
     ]
    }
   ],
   "source": [
    "data['expression'].info()"
   ]
  },
  {
   "cell_type": "code",
   "execution_count": 4,
   "metadata": {},
   "outputs": [],
   "source": [
    "data_no_nan = data.dropna()"
   ]
  },
  {
   "cell_type": "code",
   "execution_count": 5,
   "metadata": {},
   "outputs": [
    {
     "name": "stdout",
     "output_type": "stream",
     "text": [
      "<class 'pandas.core.frame.DataFrame'>\n",
      "Index: 11370 entries, 0 to 12293\n",
      "Data columns (total 4 columns):\n",
      " #   Column            Non-Null Count  Dtype  \n",
      "---  ------            --------------  -----  \n",
      " 0   mutant            11370 non-null  object \n",
      " 1   dataset           11370 non-null  int64  \n",
      " 2   mutated_sequence  11370 non-null  object \n",
      " 3   expression        11370 non-null  float64\n",
      "dtypes: float64(1), int64(1), object(2)\n",
      "memory usage: 444.1+ KB\n"
     ]
    }
   ],
   "source": [
    "data_no_nan.info()"
   ]
  },
  {
   "cell_type": "code",
   "execution_count": null,
   "metadata": {},
   "outputs": [],
   "source": []
  }
 ],
 "metadata": {
  "kernelspec": {
   "display_name": "ProteinEngineering",
   "language": "python",
   "name": "python3"
  },
  "language_info": {
   "codemirror_mode": {
    "name": "ipython",
    "version": 3
   },
   "file_extension": ".py",
   "mimetype": "text/x-python",
   "name": "python",
   "nbconvert_exporter": "python",
   "pygments_lexer": "ipython3",
   "version": "3.11.9"
  }
 },
 "nbformat": 4,
 "nbformat_minor": 2
}
