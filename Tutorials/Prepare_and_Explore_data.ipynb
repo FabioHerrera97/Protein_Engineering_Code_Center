{
 "cells": [
  {
   "cell_type": "markdown",
   "metadata": {},
   "source": [
    "# BASIC STEPS IN EXPLORATORY DATA ANALYSIS\n",
    "\n",
    "This notebook contain the main basic steps that should be performed during exploratory data analysis of experimental data for protein engineering. It is important to note that this is not an exhaustive procedure. It only include the minimal number of steps that should be performed and further steps might be required depending on the data and objective."
   ]
  },
  {
   "cell_type": "code",
   "execution_count": 4,
   "metadata": {},
   "outputs": [],
   "source": [
    "import pandas as pd\n",
    "import numpy as np  \n",
    "import matplotlib.pyplot as plt\n",
    "import sys\n",
    "import seaborn as sns\n",
    "\n",
    "sys.path.insert(1, '/raid/data/fherrera/Protein_Engineering_Code_Center/Src/')\n",
    "from data_processing import DataProcessing"
   ]
  },
  {
   "cell_type": "markdown",
   "metadata": {},
   "source": [
    "The datset used in this tutorial correspond to alpha amylase obtained from: \n",
    "\n",
    "https://github.com/the-protein-engineering-tournament/pet-pilot-2023"
   ]
  },
  {
   "cell_type": "code",
   "execution_count": 5,
   "metadata": {},
   "outputs": [
    {
     "data": {
      "text/html": [
       "<div>\n",
       "<style scoped>\n",
       "    .dataframe tbody tr th:only-of-type {\n",
       "        vertical-align: middle;\n",
       "    }\n",
       "\n",
       "    .dataframe tbody tr th {\n",
       "        vertical-align: top;\n",
       "    }\n",
       "\n",
       "    .dataframe thead th {\n",
       "        text-align: right;\n",
       "    }\n",
       "</style>\n",
       "<table border=\"1\" class=\"dataframe\">\n",
       "  <thead>\n",
       "    <tr style=\"text-align: right;\">\n",
       "      <th></th>\n",
       "      <th>mutant</th>\n",
       "      <th>dataset</th>\n",
       "      <th>mutated_sequence</th>\n",
       "      <th>expression</th>\n",
       "    </tr>\n",
       "  </thead>\n",
       "  <tbody>\n",
       "    <tr>\n",
       "      <th>0</th>\n",
       "      <td>S142L-T152P-L158V-G298M-E351Q</td>\n",
       "      <td>2</td>\n",
       "      <td>LTAPSIKSGTILHAWNWSFNTLKHNMKDIHDAGYTAIQTSPINQVK...</td>\n",
       "      <td>0.815</td>\n",
       "    </tr>\n",
       "    <tr>\n",
       "      <th>1</th>\n",
       "      <td>K007D</td>\n",
       "      <td>1</td>\n",
       "      <td>LTAPSIDSGTILHAWNWSFNTLKHNMKDIHDAGYTAIQTSPINQVK...</td>\n",
       "      <td>0.830</td>\n",
       "    </tr>\n",
       "    <tr>\n",
       "      <th>2</th>\n",
       "      <td>A086E</td>\n",
       "      <td>1</td>\n",
       "      <td>LTAPSIKSGTILHAWNWSFNTLKHNMKDIHDAGYTAIQTSPINQVK...</td>\n",
       "      <td>1.560</td>\n",
       "    </tr>\n",
       "    <tr>\n",
       "      <th>3</th>\n",
       "      <td>S005E-S131H</td>\n",
       "      <td>2</td>\n",
       "      <td>LTAPEIKSGTILHAWNWSFNTLKHNMKDIHDAGYTAIQTSPINQVK...</td>\n",
       "      <td>0.452</td>\n",
       "    </tr>\n",
       "    <tr>\n",
       "      <th>4</th>\n",
       "      <td>T413H</td>\n",
       "      <td>1</td>\n",
       "      <td>LTAPSIKSGTILHAWNWSFNTLKHNMKDIHDAGYTAIQTSPINQVK...</td>\n",
       "      <td>1.010</td>\n",
       "    </tr>\n",
       "  </tbody>\n",
       "</table>\n",
       "</div>"
      ],
      "text/plain": [
       "                          mutant  dataset  \\\n",
       "0  S142L-T152P-L158V-G298M-E351Q        2   \n",
       "1                          K007D        1   \n",
       "2                          A086E        1   \n",
       "3                    S005E-S131H        2   \n",
       "4                          T413H        1   \n",
       "\n",
       "                                    mutated_sequence  expression  \n",
       "0  LTAPSIKSGTILHAWNWSFNTLKHNMKDIHDAGYTAIQTSPINQVK...       0.815  \n",
       "1  LTAPSIDSGTILHAWNWSFNTLKHNMKDIHDAGYTAIQTSPINQVK...       0.830  \n",
       "2  LTAPSIKSGTILHAWNWSFNTLKHNMKDIHDAGYTAIQTSPINQVK...       1.560  \n",
       "3  LTAPEIKSGTILHAWNWSFNTLKHNMKDIHDAGYTAIQTSPINQVK...       0.452  \n",
       "4  LTAPSIKSGTILHAWNWSFNTLKHNMKDIHDAGYTAIQTSPINQVK...       1.010  "
      ]
     },
     "execution_count": 5,
     "metadata": {},
     "output_type": "execute_result"
    }
   ],
   "source": [
    "data = pd.read_csv('../Data/raw_data/Alpha_Amylase.csv')\n",
    "data.head()"
   ]
  },
  {
   "cell_type": "markdown",
   "metadata": {},
   "source": [
    "The first step is to check for invalid or NaN entries. These entries must be removed as they are not useful for any prediction porpuse"
   ]
  },
  {
   "cell_type": "code",
   "execution_count": 15,
   "metadata": {},
   "outputs": [
    {
     "name": "stdout",
     "output_type": "stream",
     "text": [
      "Number of entries in the raw dataset: 12294\n"
     ]
    }
   ],
   "source": [
    "number_of_entries = data['expression'].shape[0]\n",
    "print (f'Number of entries in the raw dataset: {number_of_entries}')"
   ]
  },
  {
   "cell_type": "code",
   "execution_count": 11,
   "metadata": {},
   "outputs": [
    {
     "name": "stdout",
     "output_type": "stream",
     "text": [
      "Number of NaN values in expression column: 924\n"
     ]
    }
   ],
   "source": [
    "expression_nan_count = data['expression'].isna().sum()\n",
    "print(f'Number of NaN values in expression column: {expression_nan_count}')"
   ]
  },
  {
   "cell_type": "code",
   "execution_count": 16,
   "metadata": {},
   "outputs": [
    {
     "name": "stdout",
     "output_type": "stream",
     "text": [
      "Number of entries in the dataset after removing NaN values: 11370\n"
     ]
    }
   ],
   "source": [
    "data_no_nan = data.dropna(subset=['expression'])\n",
    "number_of_entries_no_nan = data_no_nan['expression'].shape[0]\n",
    "print(f'Number of entries in the dataset after removing NaN values: {number_of_entries_no_nan}')"
   ]
  },
  {
   "cell_type": "code",
   "execution_count": 20,
   "metadata": {},
   "outputs": [
    {
     "data": {
      "text/html": [
       "<div>\n",
       "<style scoped>\n",
       "    .dataframe tbody tr th:only-of-type {\n",
       "        vertical-align: middle;\n",
       "    }\n",
       "\n",
       "    .dataframe tbody tr th {\n",
       "        vertical-align: top;\n",
       "    }\n",
       "\n",
       "    .dataframe thead th {\n",
       "        text-align: right;\n",
       "    }\n",
       "</style>\n",
       "<table border=\"1\" class=\"dataframe\">\n",
       "  <thead>\n",
       "    <tr style=\"text-align: right;\">\n",
       "      <th></th>\n",
       "      <th>mutant</th>\n",
       "      <th>dataset</th>\n",
       "      <th>mutated_sequence</th>\n",
       "      <th>expression</th>\n",
       "      <th>Log_expression</th>\n",
       "    </tr>\n",
       "  </thead>\n",
       "  <tbody>\n",
       "    <tr>\n",
       "      <th>0</th>\n",
       "      <td>S142L-T152P-L158V-G298M-E351Q</td>\n",
       "      <td>2</td>\n",
       "      <td>LTAPSIKSGTILHAWNWSFNTLKHNMKDIHDAGYTAIQTSPINQVK...</td>\n",
       "      <td>0.815</td>\n",
       "      <td>-0.204567</td>\n",
       "    </tr>\n",
       "    <tr>\n",
       "      <th>1</th>\n",
       "      <td>K007D</td>\n",
       "      <td>1</td>\n",
       "      <td>LTAPSIDSGTILHAWNWSFNTLKHNMKDIHDAGYTAIQTSPINQVK...</td>\n",
       "      <td>0.830</td>\n",
       "      <td>-0.186330</td>\n",
       "    </tr>\n",
       "    <tr>\n",
       "      <th>2</th>\n",
       "      <td>A086E</td>\n",
       "      <td>1</td>\n",
       "      <td>LTAPSIKSGTILHAWNWSFNTLKHNMKDIHDAGYTAIQTSPINQVK...</td>\n",
       "      <td>1.560</td>\n",
       "      <td>0.444686</td>\n",
       "    </tr>\n",
       "    <tr>\n",
       "      <th>3</th>\n",
       "      <td>S005E-S131H</td>\n",
       "      <td>2</td>\n",
       "      <td>LTAPEIKSGTILHAWNWSFNTLKHNMKDIHDAGYTAIQTSPINQVK...</td>\n",
       "      <td>0.452</td>\n",
       "      <td>-0.794073</td>\n",
       "    </tr>\n",
       "    <tr>\n",
       "      <th>4</th>\n",
       "      <td>T413H</td>\n",
       "      <td>1</td>\n",
       "      <td>LTAPSIKSGTILHAWNWSFNTLKHNMKDIHDAGYTAIQTSPINQVK...</td>\n",
       "      <td>1.010</td>\n",
       "      <td>0.009950</td>\n",
       "    </tr>\n",
       "  </tbody>\n",
       "</table>\n",
       "</div>"
      ],
      "text/plain": [
       "                          mutant  dataset  \\\n",
       "0  S142L-T152P-L158V-G298M-E351Q        2   \n",
       "1                          K007D        1   \n",
       "2                          A086E        1   \n",
       "3                    S005E-S131H        2   \n",
       "4                          T413H        1   \n",
       "\n",
       "                                    mutated_sequence  expression  \\\n",
       "0  LTAPSIKSGTILHAWNWSFNTLKHNMKDIHDAGYTAIQTSPINQVK...       0.815   \n",
       "1  LTAPSIDSGTILHAWNWSFNTLKHNMKDIHDAGYTAIQTSPINQVK...       0.830   \n",
       "2  LTAPSIKSGTILHAWNWSFNTLKHNMKDIHDAGYTAIQTSPINQVK...       1.560   \n",
       "3  LTAPEIKSGTILHAWNWSFNTLKHNMKDIHDAGYTAIQTSPINQVK...       0.452   \n",
       "4  LTAPSIKSGTILHAWNWSFNTLKHNMKDIHDAGYTAIQTSPINQVK...       1.010   \n",
       "\n",
       "   Log_expression  \n",
       "0       -0.204567  \n",
       "1       -0.186330  \n",
       "2        0.444686  \n",
       "3       -0.794073  \n",
       "4        0.009950  "
      ]
     },
     "execution_count": 20,
     "metadata": {},
     "output_type": "execute_result"
    }
   ],
   "source": [
    "data_no_nan.loc[:, 'Log_expression'] =  DataProcessing.transform_to_logarithmic(data_no_nan ['expression'])\n",
    "data_no_nan .head()"
   ]
  },
  {
   "cell_type": "code",
   "execution_count": 25,
   "metadata": {},
   "outputs": [],
   "source": [
    "data_no_nan.to_csv('../Data/Cleaned_data/Alpha_Amylase_cleaned.csv', index=False)"
   ]
  },
  {
   "cell_type": "code",
   "execution_count": 22,
   "metadata": {},
   "outputs": [
    {
     "data": {
      "text/plain": [
       "count    11370.000000\n",
       "mean        -1.111259\n",
       "std          1.212110\n",
       "min         -2.995732\n",
       "25%         -2.302585\n",
       "50%         -0.621757\n",
       "75%         -0.072571\n",
       "max          1.161274\n",
       "Name: Log_expression, dtype: float64"
      ]
     },
     "execution_count": 22,
     "metadata": {},
     "output_type": "execute_result"
    }
   ],
   "source": [
    "data_no_nan['Log_expression'].describe()"
   ]
  },
  {
   "cell_type": "code",
   "execution_count": 23,
   "metadata": {},
   "outputs": [
    {
     "data": {
      "text/plain": [
       "Text(0, 0.5, 'Log_expression Value')"
      ]
     },
     "execution_count": 23,
     "metadata": {},
     "output_type": "execute_result"
    },
    {
     "data": {
      "image/png": "[encoded data removed]",
      "text/plain": [
       "<Figure size 640x480 with 1 Axes>"
      ]
     },
     "metadata": {},
     "output_type": "display_data"
    }
   ],
   "source": [
    "data_no_nan['Log_expression'].plot(kind='box')\n",
    "plt.ylabel('Log_expression Value')"
   ]
  },
  {
   "cell_type": "code",
   "execution_count": 24,
   "metadata": {},
   "outputs": [
    {
     "data": {
      "image/png": "[encoded data removed]",
      "text/plain": [
       "<Figure size 500x500 with 1 Axes>"
      ]
     },
     "metadata": {},
     "output_type": "display_data"
    }
   ],
   "source": [
    "\n",
    "sns.displot(data_no_nan['Log_expression'])\n",
    "plt.xlabel('Log_expression Value')\n",
    "plt.ylabel('Density')\n",
    "plt.title('Distribution of Log_expression Values')\n",
    "plt.show()\n"
   ]
  },
  {
   "cell_type": "markdown",
   "metadata": {},
   "source": []
  }
 ],
 "metadata": {
  "kernelspec": {
   "display_name": "ProteinEngineering",
   "language": "python",
   "name": "python3"
  },
  "language_info": {
   "codemirror_mode": {
    "name": "ipython",
    "version": 3
   },
   "file_extension": ".py",
   "mimetype": "text/x-python",
   "name": "python",
   "nbconvert_exporter": "python",
   "pygments_lexer": "ipython3",
   "version": "3.11.9"
  }
 },
 "nbformat": 4,
 "nbformat_minor": 2
}
